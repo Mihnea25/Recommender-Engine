{
  "nbformat": 4,
  "nbformat_minor": 0,
  "metadata": {
    "colab": {
      "provenance": []
    },
    "kernelspec": {
      "name": "python3",
      "display_name": "Python 3"
    },
    "language_info": {
      "name": "python"
    }
  },
  "cells": [
    {
      "cell_type": "code",
      "execution_count": null,
      "metadata": {
        "id": "S_Y3mNircZ_U"
      },
      "outputs": [],
      "source": [
        "#importing libraries\n",
        "from sklearn.preprocessing import MinMaxScaler\n",
        "from sklearn.preprocessing import StandardScaler\n",
        "from sklearn.preprocessing import Binarizer\n",
        "from sklearn.preprocessing import OneHotEncoder\n",
        "from sklearn.preprocessing import LabelEncoder\n",
        "from sklearn.model_selection import train_test_split\n",
        "from sklearn.neighbors import KNeighborsClassifier\n",
        "from sklearn.metrics import confusion_matrix\n",
        "from sklearn.metrics import f1_score\n",
        "from sklearn.metrics import accuracy_score\n",
        "from sklearn.cluster import KMeans\n",
        "from pandas.plotting import hist_frame\n",
        "from numpy import set_printoptions\n",
        "from pandas import read_csv\n",
        "from pandas import set_option\n",
        "from pandas.plotting import scatter_matrix\n",
        "from sklearn.metrics.pairwise import cosine_similarity\n",
        "from sklearn.feature_extraction.text import CountVectorizer\n",
        "import scipy\n",
        "import ast\n",
        "import matplotlib.pyplot as plt\n",
        "import numpy as np\n",
        "import pandas as pd\n",
        "import seaborn as sbn\n",
        "import csv\n"
      ]
    },
    {
      "cell_type": "code",
      "source": [
        "#loading csv containing song attributes with pandas\n",
        "filename = 'songAttributes.csv'\n",
        "data = read_csv(filename,on_bad_lines = 'skip',encoding = 'latin1')\n",
        "shape = data.shape\n",
        "print(shape)\n",
        "types = data.dtypes\n",
        "print(types)"
      ],
      "metadata": {
        "id": "m0dgha7Polga"
      },
      "execution_count": null,
      "outputs": []
    },
    {
      "cell_type": "code",
      "source": [
        "#loading the csv containing user reviews with pandas\n",
        "filename = 'userRatingsDataset.csv'\n",
        "userData = read_csv(filename,on_bad_lines = 'skip')\n",
        "shape = userData.shape\n",
        "print(shape)\n",
        "types = userData.dtypes\n",
        "print(types)"
      ],
      "metadata": {
        "id": "WsQgpIRcV1P7",
        "colab": {
          "base_uri": "https://localhost:8080/"
        },
        "outputId": "09d3f878-80a3-4b79-b438-27f3f81c736f"
      },
      "execution_count": null,
      "outputs": [
        {
          "output_type": "stream",
          "name": "stdout",
          "text": [
            "(101192, 4)\n",
            "userID       int64\n",
            "songID       int64\n",
            "rating       int64\n",
            "songName    object\n",
            "dtype: object\n"
          ]
        }
      ]
    },
    {
      "cell_type": "code",
      "source": [
        "#loading the csv containing user ratings with pandas\n",
        "filename = 'songAttributes.csv'\n",
        "data = read_csv(filename,on_bad_lines = 'skip',encoding = 'latin1')\n",
        "shape = data.shape\n",
        "print(shape)\n",
        "types = data.dtypes\n",
        "print(types)"
      ],
      "metadata": {
        "id": "KPJDh6n7cLsi"
      },
      "execution_count": null,
      "outputs": []
    },
    {
      "cell_type": "code",
      "source": [
        "set_option('display.width',100)\n",
        "set_option('display.precision',3)\n",
        "description = data.describe()\n",
        "print(description)"
      ],
      "metadata": {
        "id": "kNEcJCjgccFJ"
      },
      "execution_count": null,
      "outputs": []
    },
    {
      "cell_type": "code",
      "source": [
        "print('Null values:\\n',data.isnull().sum(),'\\nDuplicate song names:\\n',data.duplicated('song_name').sum())\n",
        "\n"
      ],
      "metadata": {
        "id": "0LqxAydDfoxo"
      },
      "execution_count": null,
      "outputs": []
    },
    {
      "cell_type": "code",
      "source": [
        "userData.isnull().sum()\n",
        "userData.duplicated('userID').sum()"
      ],
      "metadata": {
        "colab": {
          "base_uri": "https://localhost:8080/"
        },
        "id": "SCw5Hbn1a6mI",
        "outputId": "555d770b-f59d-4221-8f5a-faab2f07efff"
      },
      "execution_count": null,
      "outputs": [
        {
          "output_type": "execute_result",
          "data": {
            "text/plain": [
              "91072"
            ]
          },
          "metadata": {},
          "execution_count": 26
        }
      ]
    },
    {
      "cell_type": "code",
      "source": [
        "#dropping rows with duplicate song names and null values\n",
        "data=data.drop_duplicates('song_name',keep= 'first',ignore_index = True)\n",
        "data.dropna(inplace = True)\n",
        "print(data.shape)"
      ],
      "metadata": {
        "id": "ea0XDH310l7i",
        "colab": {
          "base_uri": "https://localhost:8080/"
        },
        "outputId": "d55a414f-d64a-42d3-ceee-97fcdc9e5ec4"
      },
      "execution_count": null,
      "outputs": [
        {
          "output_type": "stream",
          "name": "stdout",
          "text": [
            "(8344, 10)\n"
          ]
        }
      ]
    },
    {
      "cell_type": "code",
      "source": [
        "#dropping columns I dont need\n",
        "drop_columns =['loudness','mode','tempo','key','type','id','uri','track_href','analysis_url','duration_ms','time_signature']\n",
        "data = data.drop(drop_columns,axis = 1)\n",
        "data = data.drop(data.columns[0],axis = 1)"
      ],
      "metadata": {
        "id": "lCUpDIPrLUEr"
      },
      "execution_count": null,
      "outputs": []
    },
    {
      "cell_type": "code",
      "source": [
        "\"\"\"cv = CountVectorizer()\n",
        "ansm = cv.fit_transform(data['artist'])\n",
        "cosine_sim = cosine_similarity(ansm,ansm)\n",
        "print(cosine_sim)\"\"\""
      ],
      "metadata": {
        "id": "bk27CYZXg7e3"
      },
      "execution_count": null,
      "outputs": []
    },
    {
      "cell_type": "code",
      "source": [
        "df = pd.DataFrame(data)\n",
        "title_array = df.loc[:,'song_name'].values\n",
        "print(title_array)\n",
        "artist_array = df.loc[:,'artist'].values\n",
        "genre_array = df.loc[:,'genre'].values\n",
        "#print(artist_array)"
      ],
      "metadata": {
        "colab": {
          "base_uri": "https://localhost:8080/"
        },
        "id": "fy3WIi1zIXt1",
        "outputId": "a790a784-2eee-486c-dbbe-17ec33e99ce7"
      },
      "execution_count": null,
      "outputs": [
        {
          "output_type": "stream",
          "name": "stdout",
          "text": [
            "['Dark River - Festival Version' 'Derp - Original Mix'\n",
            " 'One Kiss (with Dua Lipa)' ... 'One Of Us - Short Version'\n",
            " 'Eyes Without A Face' 'Rebel Yell']\n"
          ]
        }
      ]
    },
    {
      "cell_type": "code",
      "source": [
        "genre_array.drop_duplicates()"
      ],
      "metadata": {
        "colab": {
          "base_uri": "https://localhost:8080/"
        },
        "id": "BfHa7s2iA9Yb",
        "outputId": "05930a73-42c4-4b91-e6e9-71f324d9351c"
      },
      "execution_count": null,
      "outputs": [
        {
          "output_type": "stream",
          "name": "stdout",
          "text": [
            "['absolute music' 'absolute music' 'absolute music' ... 'rock' 'rock'\n",
            " 'rock']\n"
          ]
        }
      ]
    },
    {
      "cell_type": "code",
      "source": [
        "def same_artist_songs(title,count):\n",
        "    k=0\n",
        "    rec_array = []\n",
        "    req_nr = 1\n",
        "\n",
        "    #I obtain the index of the song\n",
        "    idx = data[data[\"song_name\"] == title].index.tolist()[0]\n",
        "    #I obtain the artist of the song based on the index\n",
        "    artistf = data.iloc[idx].artist\n",
        "    #I loop through the artists array\n",
        "    for x in range (0,len(artist_array)):\n",
        "        #I check if the artist in the array is the same as the artist of the song given as parameter and if the count isn't reached\n",
        "        if artist_array[x] == artistf and k<count:\n",
        "            #if the above condition is satisfied the song is added to the array with songs\n",
        "            rec_array.append(title_array[x])\n",
        "            k +=1\n",
        "         #I check if the last value of the artist array was reached while the value of k didn't reach the value of count\n",
        "        if x==len(artist_array)-1 and k<count:\n",
        "            print(f'There are only {k} songs by {artistf}')\n",
        "            req_nr = 0\n",
        "            break\n",
        "\n",
        "\n",
        "    if req_nr == 1:\n",
        "        if count == 1:\n",
        "          print(f'Here is {count} song similar to {title} by {artistf}:')\n",
        "        elif count > 1:\n",
        "          print(f'Here are {count} songs similar to {title} by {artistf}:')\n",
        "        else:\n",
        "          print('Error')\n",
        "\n",
        "    #I print all the values of the array with songs of the same artist\n",
        "    for j in range(0,len(rec_array)):\n",
        "        print(f'{j+1}.{rec_array[j]}')"
      ],
      "metadata": {
        "id": "hkwfSl3YpU_d"
      },
      "execution_count": null,
      "outputs": []
    },
    {
      "cell_type": "code",
      "source": [
        "def same_genre_songs(title,count):\n",
        "    k=0\n",
        "    rec_array = []\n",
        "    req_nr = 1\n",
        "\n",
        "    #I obtain the index of the song\n",
        "    idx = data[data[\"song_name\"] == title].index.tolist()[0]\n",
        "    #I obtain the genre of the song based on the index\n",
        "    genretf = data.iloc[idx].genre\n",
        "    #I loop through the genre array\n",
        "    for x in range (0,len(genre_array)):\n",
        "        #I check if the genre in the array is the same as the genre of the song given as parameter and if the count isn't reached\n",
        "        if genre_array[x] == genretf and k<count:\n",
        "            #if the above condition is satisfied the song is added to the array with songs\n",
        "            rec_array.append(title_array[x])\n",
        "            k +=1\n",
        "         #I check if the last value of the genre array was reached while the value of k didn't reach the value of count\n",
        "        if x==len(genre_array)-1 and k<count:\n",
        "            print(f'There are only {k} {genretf} songs')\n",
        "            req_nr = 0\n",
        "            break\n",
        "\n",
        "\n",
        "    if req_nr == 1:\n",
        "        if count == 1:\n",
        "          print(f'Here is {count} {genretf} song similar to {title}')\n",
        "        elif count > 1:\n",
        "          print(f'Here are {count} {genretf} songs similar to {title}:')\n",
        "        else:\n",
        "          print('Error')\n",
        "\n",
        "    #I print all the values of the array with songs of the same genre\n",
        "    for j in range(0,len(rec_array)):\n",
        "        print(f'{j+1}.{rec_array[j]}')"
      ],
      "metadata": {
        "id": "TfCfPIma9qGf"
      },
      "execution_count": null,
      "outputs": []
    },
    {
      "cell_type": "code",
      "source": [
        "#@title Recommendation of songs with the same artist\n",
        "\n",
        "Title =\"Mask Off\" #@param {type:\"string\"}\n",
        "count = 15 #@param {type:\"raw\"}\n",
        "same_artist_songs(Title,count)\n"
      ],
      "metadata": {
        "id": "MrMKm4otvt-5"
      },
      "execution_count": null,
      "outputs": []
    },
    {
      "cell_type": "code",
      "source": [
        "print(data)"
      ],
      "metadata": {
        "id": "J7nOP4pGpUMs"
      },
      "execution_count": null,
      "outputs": []
    },
    {
      "cell_type": "code",
      "source": [
        "def similar_songs_rec(data,song,artist,count):\n",
        "  try:\n",
        "      #storing the name of the song and the artist\n",
        "      artist_and_song_data = data[(data['song_title']==song) &(data['artist']==artist)]\n",
        "      #creating a copy of the dataset\n",
        "      similar_songs = data.copy()\n",
        "      #storing in a table all the rows for the specified columns\n",
        "      sound_properties = similar_songs.loc[:,['acousticness','danceability','duration_ms','energy','instrumentalness','key','liveness','loudness','mode','speechiness','tempo','time_signature','valence']]\n",
        "\n",
        "      similar_songs['Similarity with song'] = cosine_similarity(sound_properties,sound_properties.to_numpy()[ artist_and_song_data.index[0],None]).squeeze()\n",
        "      #renaming the name column for the similar_songs table\n",
        "      similar_songs.rename(columns={'song_title':f'Songs similar to {song}'},inplace = True)\n",
        "      #sorting the values of the similar_songs table in descending order\n",
        "      similar_songs = similar_songs.sort_values(by = 'Similarity with song',ascending = False)\n",
        "\n",
        "      similar_songs = similar_songs[['artist',f'Songs similar to {song}']]\n",
        "\n",
        "\n",
        "\n",
        "      similar_songs.reset_index(drop = True,inplace = True)\n",
        "      #print(similar_songs)\n",
        "      return similar_songs.iloc[1:count+1]\n",
        "\n",
        "  except:\n",
        "      print(\"This song is not included in the dataset\")\n"
      ],
      "metadata": {
        "id": "HHOUhj7f2cSg"
      },
      "execution_count": null,
      "outputs": []
    },
    {
      "cell_type": "code",
      "source": [
        "#@title Recommendation of songs with similar attributes\n",
        "\n",
        "Song = \"Mask Off\" #@param {type:\"string\"}\n",
        "Artist = \"Future\" #@param {type:\"string\"}\n",
        "Number_of_songs = 6 #@param {type:\"raw\"}\n",
        "similar_songs_rec(data,Song,Artist,Number_of_songs)"
      ],
      "metadata": {
        "id": "iWgM_61LIpjB"
      },
      "execution_count": null,
      "outputs": []
    },
    {
      "cell_type": "code",
      "source": [
        "#print(data)\n",
        "display(data)"
      ],
      "metadata": {
        "id": "rAV4wI_AKBMZ"
      },
      "execution_count": null,
      "outputs": []
    },
    {
      "cell_type": "code",
      "source": [
        "dropped_df =pd.DataFrame(data)"
      ],
      "metadata": {
        "id": "HI5rUR2jPwia"
      },
      "execution_count": null,
      "outputs": []
    },
    {
      "cell_type": "code",
      "source": [
        "display(dropped_df)"
      ],
      "metadata": {
        "id": "VuwWpoB4wube"
      },
      "execution_count": null,
      "outputs": []
    },
    {
      "cell_type": "code",
      "source": [
        "array = dropped_df.values\n",
        "\n",
        "#binarization of danceability\n",
        "dance_array= array[:,0:1]\n",
        "#print(x)\n",
        "binarizer = Binarizer(threshold= 0.5).fit(dance_array)\n",
        "binary_dance_array = binarizer.transform(dance_array)\n",
        "set_printoptions(precision = 3)\n",
        "print('Danceability:')\n",
        "print(binary_dance_array[0:20,:])\n",
        "print(\"\\n\")\n",
        "\n",
        "#binarization of energy\n",
        "energy_array= array[:,1:2]\n",
        "#print(x)\n",
        "binarizer = Binarizer(threshold= 0.5).fit(energy_array)\n",
        "binary_energy_array = binarizer.transform(energy_array)\n",
        "set_printoptions(precision = 3)\n",
        "print('Energy:')\n",
        "print(binary_energy_array[0:20,:])\n",
        "print(\"\\n\")\n",
        "\n",
        "#binarization of speechiness\n",
        "speech_array = array[:,2:3]\n",
        "#print(speech_array)\n",
        "binarizer = Binarizer(threshold = 0.66).fit(speech_array)\n",
        "binary_speech_array = binarizer.transform(speech_array)\n",
        "print('Speechiness:')\n",
        "print(binary_speech_array[0:20])\n",
        "print(\"\\n\")\n",
        "\n",
        "#binarization of acousticness\n",
        "acoustic_array= array[:,3:4]\n",
        "#print(x)\n",
        "binarizer = Binarizer(threshold= 0.5).fit(acoustic_array)\n",
        "binary_acoustic_array = binarizer.transform(acoustic_array)\n",
        "set_printoptions(precision = 3)\n",
        "print('Acousticness:')\n",
        "print(binary_acoustic_array[0:20,:])\n",
        "print(\"\\n\")\n",
        "\n",
        "#binarization of instrumentalness\n",
        "instrumental_array= array[:,4:5]\n",
        "#print(x)\n",
        "binarizer = Binarizer(threshold= 0.5).fit(instrumental_array)\n",
        "binary_instrumental_array = binarizer.transform(instrumental_array)\n",
        "set_printoptions(precision = 3)\n",
        "print('Instrumentalness:')\n",
        "print(binary_instrumental_array[0:20,:])\n",
        "print(\"\\n\")\n",
        "\n",
        "#binarization of liveness\n",
        "live_array = array[:,5:6]\n",
        "#print(live_array)\n",
        "binarizer = Binarizer(threshold = 0.8).fit(live_array)\n",
        "binary_live_array = binarizer.transform(live_array)\n",
        "print('Liveness:')\n",
        "print(binary_live_array[0:20])\n",
        "print(\"\\n\")\n",
        "\n",
        "#binarization of valence\n",
        "valence_array = array[:,6:7]\n",
        "#print(valence_array)\n",
        "binarizer = Binarizer(threshold = 0.5).fit(valence_array)\n",
        "binary_valence_array = binarizer.transform(valence_array)\n",
        "print('Valence:')\n",
        "print(binary_valence_array[0:20])\n"
      ],
      "metadata": {
        "id": "-DVPtQ3SYfs2"
      },
      "execution_count": null,
      "outputs": []
    },
    {
      "cell_type": "code",
      "source": [
        "display(dropped_df)"
      ],
      "metadata": {
        "id": "OtSWUsmH1d0p"
      },
      "execution_count": null,
      "outputs": []
    },
    {
      "cell_type": "code",
      "source": [
        "\n",
        "def recommend_by_keywords(keywords,count):\n",
        "  i=0\n",
        "\n",
        "\n",
        "  for k in range(len(binary_dance_array)) :\n",
        "    check =1\n",
        "    for keyword in keywords:\n",
        "        if keyword == \"danceable\":\n",
        "          if binary_dance_array[k,0:1] == 0:\n",
        "            check = 0\n",
        "        if keyword == \"acoustic\":\n",
        "          if binary_acoustic_array[k,0:1] == 0:\n",
        "            check = 0\n",
        "        if keyword == \"instrumental\":\n",
        "          if binary_instrumental_array[k,0:1] == 0:\n",
        "            check = 0\n",
        "        if keyword == \"live\":\n",
        "          if binary_live_array[k,0:1] == 0:\n",
        "            check = 0\n",
        "        if keyword == \"energic\":\n",
        "          if binary_energy_array[k,0:1] == 0:\n",
        "            check = 0\n",
        "        if keyword == \"positive\":\n",
        "          if binary_valence_array[k,0:1] == 0:\n",
        "            check = 0\n",
        "        if keyword == \"negative\":\n",
        "          if binary_valence_array[k,0:1] == 1:\n",
        "            check = 0\n",
        "    if check == 1:\n",
        "          print(f'{data.loc[k,\"song_name\"]} by {data.loc[k,\"artist\"]}')\n",
        "          i +=1\n",
        "          if i == count:\n",
        "            break\n",
        "\n"
      ],
      "metadata": {
        "id": "xhgn_voTjJAe"
      },
      "execution_count": null,
      "outputs": []
    },
    {
      "cell_type": "code",
      "source": [
        "#@title Recommendation of songs based on keywords\n",
        "Keyword = 'acoustic' #@param [\"danceable\",\"instrumental\",\"energic\",\"live\",\"acoustic\",\"positive\",\"negative\"]\n",
        "Number_of_songs = 11 #@param {type:\"raw\"}\n",
        "recommend_by_keywords(Keyword,Number_of_songs)"
      ],
      "metadata": {
        "id": "-HVilhDxqUp3"
      },
      "execution_count": null,
      "outputs": []
    },
    {
      "cell_type": "code",
      "source": [
        "recommend_by_keywords([\"danceable\",\"energic\"],15)"
      ],
      "metadata": {
        "id": "Qo4CtGgj1Rng"
      },
      "execution_count": null,
      "outputs": []
    },
    {
      "cell_type": "code",
      "source": [
        "print(binary_dance_array[:20])\n",
        "print(len(binary_dance_array))"
      ],
      "metadata": {
        "id": "_oRm4fvFgtff"
      },
      "execution_count": null,
      "outputs": []
    },
    {
      "cell_type": "code",
      "source": [
        "df = ps.DataFrame(data)\n",
        "x=df.loc[:,'artist'].values\n",
        "print(x)\n",
        "\n"
      ],
      "metadata": {
        "id": "3sGAGwZuHDCk"
      },
      "execution_count": null,
      "outputs": []
    },
    {
      "cell_type": "code",
      "source": [
        "userDf = pd.DataFrame(userData)"
      ],
      "metadata": {
        "id": "UYnw09J_Vg36"
      },
      "execution_count": null,
      "outputs": []
    },
    {
      "cell_type": "code",
      "source": [
        "def similar_user_songs(id,count){\n",
        "\n",
        "\n",
        "\n",
        "\n",
        "}"
      ],
      "metadata": {
        "id": "rbx1ZPJjTT13"
      },
      "execution_count": null,
      "outputs": []
    },
    {
      "cell_type": "code",
      "source": [
        "userDf['rating'] = userDf['rating'].astype(str)\n",
        "grouped_ratings = userDf.groupby('userID')['rating'].apply(','.join).reset_index()"
      ],
      "metadata": {
        "id": "05moNggjcRr-"
      },
      "execution_count": null,
      "outputs": []
    },
    {
      "cell_type": "code",
      "source": [
        "display(grouped_ratings)"
      ],
      "metadata": {
        "id": "i_6A-3Vtc05C"
      },
      "execution_count": null,
      "outputs": []
    },
    {
      "cell_type": "code",
      "source": [
        "userDf.duplicated('songID').sum()"
      ],
      "metadata": {
        "id": "NzzHEE6kgvb0"
      },
      "execution_count": null,
      "outputs": []
    }
  ]
}